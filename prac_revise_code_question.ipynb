{
  "cells": [
    {
      "cell_type": "markdown",
      "metadata": {
        "colab_type": "text",
        "id": "view-in-github"
      },
      "source": [
        "<a href=\"https://colab.research.google.com/github/hibiki1755/prac_revise_code/blob/main/prac_revise_code.ipynb\" target=\"_parent\"><img src=\"https://colab.research.google.com/assets/colab-badge.svg\" alt=\"Open In Colab\"/></a>"
      ]
    },
    {
      "cell_type": "markdown",
      "metadata": {},
      "source": [
        "# if文の入れ子"
      ]
    },
    {
      "cell_type": "markdown",
      "metadata": {},
      "source": [
        "問題"
      ]
    },
    {
      "cell_type": "code",
      "execution_count": null,
      "metadata": {
        "id": "_dGEa9m37w16"
      },
      "outputs": [],
      "source": [
        "def check_grade(score):\n",
        "    if score >= 90:\n",
        "        if score == 100:\n",
        "            return 'Perfect'\n",
        "        else:\n",
        "            return 'Excellent'\n",
        "    elif score >= 80:\n",
        "        return 'Good'\n",
        "    elif score >= 70:\n",
        "        return 'Average'\n",
        "    elif score >= 60:\n",
        "        return 'Pass'\n",
        "    else:\n",
        "        return 'Fail'"
      ]
    },
    {
      "cell_type": "markdown",
      "metadata": {},
      "source": [
        "解答"
      ]
    },
    {
      "cell_type": "code",
      "execution_count": null,
      "metadata": {},
      "outputs": [],
      "source": []
    },
    {
      "cell_type": "markdown",
      "metadata": {},
      "source": [
        "問題"
      ]
    },
    {
      "cell_type": "code",
      "execution_count": null,
      "metadata": {},
      "outputs": [],
      "source": [
        "class Condition:\n",
        "    def condition1():\n",
        "        return True\n",
        "        \n",
        "    def condition2():\n",
        "        return True\n",
        "\n",
        "def check_condition():\n",
        "    condition1 = condition1()\n",
        "    condition2 = condition2() \n",
        "    \n",
        "    if condition1:\n",
        "        if condition2:\n",
        "            return 'A'\n",
        "        else:\n",
        "            return 'B'\n",
        "    else:\n",
        "        return 'C'"
      ]
    },
    {
      "cell_type": "markdown",
      "metadata": {},
      "source": [
        "解答"
      ]
    },
    {
      "cell_type": "code",
      "execution_count": null,
      "metadata": {},
      "outputs": [],
      "source": []
    },
    {
      "cell_type": "markdown",
      "metadata": {},
      "source": [
        "問題"
      ]
    },
    {
      "cell_type": "code",
      "execution_count": null,
      "metadata": {},
      "outputs": [],
      "source": [
        "def check_QuadrantNum(x, y):\n",
        "    if x > 0:\n",
        "        if y > 0:\n",
        "            return 'Quadrant I'\n",
        "        else:\n",
        "            return 'Quadrant IV'\n",
        "    else:\n",
        "        return 'Quadrant II or III'"
      ]
    },
    {
      "cell_type": "markdown",
      "metadata": {},
      "source": [
        "解答"
      ]
    },
    {
      "cell_type": "code",
      "execution_count": null,
      "metadata": {},
      "outputs": [],
      "source": []
    },
    {
      "cell_type": "markdown",
      "metadata": {},
      "source": [
        "問題"
      ]
    },
    {
      "cell_type": "code",
      "execution_count": null,
      "metadata": {},
      "outputs": [],
      "source": [
        "def today_schedule(weather, temperature):\n",
        "    if weather == 'sunny':\n",
        "        if temperature == 'warm':\n",
        "            return 'Go for a walk'\n",
        "        else:\n",
        "            return 'Stay indoors'\n",
        "    else:\n",
        "        return 'Stay indoors'"
      ]
    },
    {
      "cell_type": "markdown",
      "metadata": {},
      "source": [
        "解答"
      ]
    },
    {
      "cell_type": "code",
      "execution_count": null,
      "metadata": {},
      "outputs": [],
      "source": []
    },
    {
      "cell_type": "markdown",
      "metadata": {},
      "source": [
        "問題"
      ]
    },
    {
      "cell_type": "code",
      "execution_count": null,
      "metadata": {},
      "outputs": [],
      "source": [
        "def today_schedule2(is_weekend, is_rest_day):\n",
        "    if is_weekend:\n",
        "        if is_rest_day:\n",
        "            return 'Relax at home'\n",
        "        else:\n",
        "            return 'Go out and enjoy'\n",
        "    else:\n",
        "        return 'Work or study'"
      ]
    },
    {
      "cell_type": "markdown",
      "metadata": {},
      "source": [
        "解答"
      ]
    },
    {
      "cell_type": "code",
      "execution_count": null,
      "metadata": {},
      "outputs": [],
      "source": []
    },
    {
      "cell_type": "markdown",
      "metadata": {},
      "source": [
        "問題"
      ]
    },
    {
      "cell_type": "code",
      "execution_count": null,
      "metadata": {},
      "outputs": [],
      "source": [
        "def today_schedule(is_morning, is_weekday, is_holiday):\n",
        "    if is_morning:\n",
        "        if is_weekday:\n",
        "            if is_holiday:\n",
        "                return 'Sleep in'\n",
        "            else:\n",
        "                return 'Go to work'\n",
        "        else:\n",
        "            return 'It\\'s the weekend!'\n",
        "    else:\n",
        "        return 'Not morning anymore'\n"
      ]
    },
    {
      "cell_type": "markdown",
      "metadata": {},
      "source": [
        "解答"
      ]
    },
    {
      "cell_type": "code",
      "execution_count": null,
      "metadata": {},
      "outputs": [],
      "source": []
    },
    {
      "cell_type": "markdown",
      "metadata": {},
      "source": [
        "問題"
      ]
    },
    {
      "cell_type": "code",
      "execution_count": null,
      "metadata": {},
      "outputs": [],
      "source": [
        "def today_schedule(is_sunny, is_weekend, is_beach_day):\n",
        "    if is_sunny:\n",
        "        if is_weekend:\n",
        "            if is_beach_day:\n",
        "                return 'Go to the beach'\n",
        "            else:\n",
        "                return 'Do outdoor activities'\n",
        "        else:\n",
        "            return 'Go to work'\n",
        "    else:\n",
        "        return 'Stay indoors'"
      ]
    },
    {
      "cell_type": "markdown",
      "metadata": {},
      "source": [
        "解答"
      ]
    },
    {
      "cell_type": "code",
      "execution_count": null,
      "metadata": {},
      "outputs": [],
      "source": []
    },
    {
      "cell_type": "markdown",
      "metadata": {},
      "source": [
        "問題"
      ]
    },
    {
      "cell_type": "code",
      "execution_count": null,
      "metadata": {},
      "outputs": [],
      "source": [
        "if is_busy:\n",
        "    if is_high_priority:\n",
        "        perform_high_priority_task()\n",
        "    else:\n",
        "        perform_low_priority_task()\n",
        "else:\n",
        "    perform_default_task()"
      ]
    },
    {
      "cell_type": "markdown",
      "metadata": {},
      "source": [
        "解答"
      ]
    },
    {
      "cell_type": "code",
      "execution_count": null,
      "metadata": {},
      "outputs": [],
      "source": []
    },
    {
      "cell_type": "markdown",
      "metadata": {},
      "source": [
        "問題"
      ]
    },
    {
      "cell_type": "code",
      "execution_count": null,
      "metadata": {},
      "outputs": [],
      "source": [
        "if is_vacation:\n",
        "    if is_overseas:\n",
        "        return 'Plan international trip'\n",
        "    else:\n",
        "        return 'Explore local attractions'\n",
        "else:\n",
        "    return 'Work as usual'"
      ]
    },
    {
      "cell_type": "markdown",
      "metadata": {},
      "source": [
        "解答"
      ]
    },
    {
      "cell_type": "code",
      "execution_count": null,
      "metadata": {},
      "outputs": [],
      "source": []
    },
    {
      "cell_type": "markdown",
      "metadata": {},
      "source": [
        "問題"
      ]
    },
    {
      "cell_type": "code",
      "execution_count": null,
      "metadata": {},
      "outputs": [],
      "source": [
        "if is_team_lead:\n",
        "    if has_meeting:\n",
        "        if is_remote:\n",
        "            return 'Join the virtual meeting'\n",
        "        else:\n",
        "            return 'Attend the onsite meeting'\n",
        "    else:\n",
        "        return 'Focus on team tasks'\n",
        "else:\n",
        "    return 'Work on individual tasks'"
      ]
    },
    {
      "cell_type": "markdown",
      "metadata": {},
      "source": [
        "解答"
      ]
    },
    {
      "cell_type": "code",
      "execution_count": null,
      "metadata": {},
      "outputs": [],
      "source": []
    },
    {
      "cell_type": "markdown",
      "metadata": {},
      "source": [
        "問題"
      ]
    },
    {
      "cell_type": "code",
      "execution_count": null,
      "metadata": {},
      "outputs": [],
      "source": [
        "if is_evening:\n",
        "    if is_weekday:\n",
        "        if is_dinner_time:\n",
        "            return 'Have dinner'\n",
        "        else:\n",
        "            return 'Relax after work'\n",
        "    else:\n",
        "        return 'Enjoy the evening'\n",
        "else:\n",
        "    return 'It\\'s not evening anymore'"
      ]
    },
    {
      "cell_type": "markdown",
      "metadata": {},
      "source": [
        "解答"
      ]
    },
    {
      "cell_type": "code",
      "execution_count": null,
      "metadata": {},
      "outputs": [],
      "source": []
    },
    {
      "cell_type": "markdown",
      "metadata": {},
      "source": []
    }
  ],
  "metadata": {
    "colab": {
      "authorship_tag": "ABX9TyO9f92VQ4wS+x+RjnEfaTPL",
      "include_colab_link": true,
      "provenance": []
    },
    "kernelspec": {
      "display_name": "Python 3",
      "name": "python3"
    },
    "language_info": {
      "codemirror_mode": {
        "name": "ipython",
        "version": 3
      },
      "file_extension": ".py",
      "mimetype": "text/x-python",
      "name": "python",
      "nbconvert_exporter": "python",
      "pygments_lexer": "ipython3",
      "version": "3.8.2"
    }
  },
  "nbformat": 4,
  "nbformat_minor": 0
}
